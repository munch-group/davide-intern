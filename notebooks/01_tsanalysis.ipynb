{
 "cells": [
  {
   "cell_type": "markdown",
   "metadata": {},
   "source": [
    "Analyzing treesequence output from SLiM\n"
   ]
  },
  {
   "cell_type": "code",
   "execution_count": 1,
   "metadata": {},
   "outputs": [],
   "source": [
    "import msprime, tskit, pyslim, time \n",
    "import numpy as np\n",
    "import pandas as pd\n",
    "from matplotlib import pyplot as plt"
   ]
  },
  {
   "cell_type": "code",
   "execution_count": 2,
   "metadata": {},
   "outputs": [
    {
     "name": "stderr",
     "output_type": "stream",
     "text": [
      "/home/davidec/miniconda3/envs/birc-project/lib/python3.12/site-packages/msprime/ancestry.py:1290: TimeUnitsMismatchWarning: The initial_state has time_units=ticks but time is measured in generations in msprime. This may lead to significant discrepancies between the timescales. If you wish to suppress this warning, you can use, e.g., warnings.simplefilter('ignore', msprime.TimeUnitsMismatchWarning)\n",
      "  sim = _parse_sim_ancestry(\n"
     ]
    }
   ],
   "source": [
    "#Recapitation: used when simulation does not coalesce entirely.\n",
    "\n",
    "#parameters to change according to simulation: recombination_rate, ancestral_Ne\n",
    "orig_ts = tskit.load(\"../results/out.trees\")\n",
    "rts = pyslim.recapitate(orig_ts,\n",
    "            recombination_rate=1.5e-8,\n",
    "            ancestral_Ne=100)"
   ]
  },
  {
   "cell_type": "code",
   "execution_count": 4,
   "metadata": {},
   "outputs": [
    {
     "name": "stdout",
     "output_type": "stream",
     "text": [
      "Maximum number of roots before recapitation: 2\n",
      "After recapitation: 1\n"
     ]
    }
   ],
   "source": [
    "#Check recapitation has occured \n",
    "orig_max_roots = max(t.num_roots for t in orig_ts.trees())\n",
    "recap_max_roots = max(t.num_roots for t in rts.trees())\n",
    "print(f\"Maximum number of roots before recapitation: {orig_max_roots}\\n\"\n",
    "      f\"After recapitation: {recap_max_roots}\")"
   ]
  },
  {
   "cell_type": "code",
   "execution_count": 16,
   "metadata": {},
   "outputs": [
    {
     "data": {
      "text/plain": [
       "13"
      ]
     },
     "execution_count": 16,
     "metadata": {},
     "output_type": "execute_result"
    }
   ],
   "source": [
    "#Getting recombination information from slim simulation\n",
    "\n",
    "#SLiM uses end positions while msprime uses start positions (msprime list will be n + 1)\n",
    "\n",
    "Rec_rate = 1e-8\n",
    "#Amp_rec_rate = ??? SHOULD BE HIGHER\n",
    "\n",
    "Chr_len = 9999\n",
    "Sep_len = 2\n",
    "Amplicon_len = 50\n",
    "Sex_Chr_len = (Chr_len // 5) - Amplicon_len\n",
    "\n",
    "'''   \n",
    "SLiM code:\n",
    "\n",
    "initializeRecombinationRate(c(Rec_rate, 0.5, Rec_rate, 0.5, 0, 0.5, 0, 0.5, 0, 0.5, 0, 0.5, 0),\n",
    "\t\tc(Chr_len, Chr_len + Sep_len,\n",
    "\t\t(Chr_len * 2) + Sep_len + 1,\n",
    "\t\t(Chr_len * 2) + (Sep_len * 2) + 1 + Amplicon_len,\n",
    "\t\t(Chr_len * 2) + (Sep_len * 2) + 2 + Amplicon_len + (Sex_Chr_len),\n",
    "\t\t(Chr_len * 2) + (Sep_len * 2) + 3 + (Amplicon_len * 2) + (Sex_Chr_len),\n",
    "\t\t(Chr_len * 2) + (Sep_len * 2) + 4 + (Amplicon_len * 2) + (Sex_Chr_len * 2),\n",
    "\t\t(Chr_len * 2) + (Sep_len * 2) + 5 + (Amplicon_len * 3) + (Sex_Chr_len * 2),\n",
    "\t\t(Chr_len * 2) + (Sep_len * 2) + 6 + (Amplicon_len * 3) + (Sex_Chr_len * 3),\n",
    "\t\t(Chr_len * 2) + (Sep_len * 2) + 7 + (Amplicon_len * 4) + (Sex_Chr_len * 3),\n",
    "\t\t(Chr_len * 2) + (Sep_len * 2) + 8 + (Amplicon_len * 4) + (Sex_Chr_len * 4),\n",
    "\t\t(Chr_len * 2) + (Sep_len * 2) + 9 + (Amplicon_len * 5) + (Sex_Chr_len * 4),\n",
    "\t\t(Chr_len * 2) + (Sep_len * 2) + 10 + (Amplicon_len * 5) + (Sex_Chr_len * 5)), sex=\"M\");\n",
    "        \n",
    "        \n",
    "initializeRecombinationRate(c(Rec_rate, 0.5, Rec_rate, 0.5, Rec_rate, 0.5, Rec_rate, 0.5, Rec_rate, 0.5, Rec_rate, 0.5, Rec_rate),\n",
    "\t\tc(Chr_len, Chr_len + Sep_len,\n",
    "\t\t(Chr_len * 2) + Sep_len + 1,\n",
    "\t\t(Chr_len * 2) + (Sep_len * 2) + 1,\n",
    "\t\t(Chr_len * 2) + (Sep_len * 2) + 2 + Amplicon_len + (Sex_Chr_len),\n",
    "\t\t(Chr_len * 2) + (Sep_len * 2) + 3 + (Amplicon_len * 2) + (Sex_Chr_len),\n",
    "\t\t(Chr_len * 2) + (Sep_len * 2) + 4 + (Amplicon_len * 2) + (Sex_Chr_len * 2),\n",
    "\t\t(Chr_len * 2) + (Sep_len * 2) + 5 + (Amplicon_len * 3) + (Sex_Chr_len * 2),\n",
    "\t\t(Chr_len * 2) + (Sep_len * 2) + 6 + (Amplicon_len * 3) + (Sex_Chr_len * 3),\n",
    "\t\t(Chr_len * 2) + (Sep_len * 2) + 7 + (Amplicon_len * 4) + (Sex_Chr_len * 3),\n",
    "\t\t(Chr_len * 2) + (Sep_len * 2) + 8 + (Amplicon_len * 4) + (Sex_Chr_len * 4),\n",
    "\t\t(Chr_len * 2) + (Sep_len * 2) + 9 + (Amplicon_len * 5) + (Sex_Chr_len * 4),\n",
    "\t\t(Chr_len * 2) + (Sep_len * 2) + 10 + (Amplicon_len * 5) + (Sex_Chr_len * 5)), sex=\"F\");\n",
    "}\n",
    "\n",
    "'''\n",
    "Positions = [Chr_len, Chr_len + Sep_len,\n",
    "\t\t(Chr_len * 2) + Sep_len + 1,\n",
    "\t\t(Chr_len * 2) + (Sep_len * 2) + 1,\n",
    "\t\t(Chr_len * 2) + (Sep_len * 2) + 2 + Amplicon_len + (Sex_Chr_len),\n",
    "\t\t(Chr_len * 2) + (Sep_len * 2) + 3 + (Amplicon_len * 2) + (Sex_Chr_len),\n",
    "\t\t(Chr_len * 2) + (Sep_len * 2) + 4 + (Amplicon_len * 2) + (Sex_Chr_len * 2),\n",
    "\t\t(Chr_len * 2) + (Sep_len * 2) + 5 + (Amplicon_len * 3) + (Sex_Chr_len * 2),\n",
    "\t\t(Chr_len * 2) + (Sep_len * 2) + 6 + (Amplicon_len * 3) + (Sex_Chr_len * 3),\n",
    "\t\t(Chr_len * 2) + (Sep_len * 2) + 7 + (Amplicon_len * 4) + (Sex_Chr_len * 3),\n",
    "\t\t(Chr_len * 2) + (Sep_len * 2) + 8 + (Amplicon_len * 4) + (Sex_Chr_len * 4),\n",
    "\t\t(Chr_len * 2) + (Sep_len * 2) + 9 + (Amplicon_len * 5) + (Sex_Chr_len * 4),\n",
    "\t\t(Chr_len * 2) + (Sep_len * 2) + 10 + (Amplicon_len * 5) + (Sex_Chr_len * 5)]\n",
    "\n",
    "#No rec in males outside PAR\n",
    "Male_Recrates = [Rec_rate, 0.5, Rec_rate, 0.5, 0, 0.5, 0, 0.5, 0, 0.5, 0, 0.5, 0]\n",
    "Female_recrates = [Rec_rate, 0.5, Rec_rate, 0.5, Rec_rate, 0.5, Rec_rate, 0.5, Rec_rate, 0.5, Rec_rate, 0.5, Rec_rate] \n",
    "\n"
   ]
  },
  {
   "cell_type": "code",
   "execution_count": 17,
   "metadata": {},
   "outputs": [],
   "source": [
    "#Writing recombination rates in tsv file \n",
    "column_names = [\"end_position\", \"rate(cM/Mb)\"]\n",
    "\n",
    "data = {\"end_position\" : Positions, \"rate(cM/Mb)\" : Female_recrates}\n",
    "df = pd.DataFrame(data)\n",
    "\n",
    "df.to_csv((\"../data/Female_recomb_rates.tsv\"), sep='\\t', index=False, header=column_names)"
   ]
  },
  {
   "cell_type": "code",
   "execution_count": null,
   "metadata": {},
   "outputs": [],
   "source": [
    "#Recapitation with a nonuniform recombination map"
   ]
  }
 ],
 "metadata": {
  "kernelspec": {
   "display_name": "birc-project",
   "language": "python",
   "name": "python3"
  },
  "language_info": {
   "codemirror_mode": {
    "name": "ipython",
    "version": 3
   },
   "file_extension": ".py",
   "mimetype": "text/x-python",
   "name": "python",
   "nbconvert_exporter": "python",
   "pygments_lexer": "ipython3",
   "version": "3.12.2"
  }
 },
 "nbformat": 4,
 "nbformat_minor": 2
}
