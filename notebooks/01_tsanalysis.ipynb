{
 "cells": [
  {
   "cell_type": "markdown",
   "metadata": {},
   "source": [
    "Analyzing treesequence output from SLiM\n"
   ]
  },
  {
   "cell_type": "code",
   "execution_count": 2,
   "metadata": {},
   "outputs": [],
   "source": [
    "import msprime, tskit, pyslim, time \n",
    "import numpy as np\n",
    "import pandas as pd\n",
    "from matplotlib import pyplot as plt"
   ]
  },
  {
   "cell_type": "code",
   "execution_count": 3,
   "metadata": {},
   "outputs": [],
   "source": [
    "orig_ts = tskit.load(\"../results/out.trees\")"
   ]
  },
  {
   "cell_type": "code",
   "execution_count": 4,
   "metadata": {},
   "outputs": [
    {
     "data": {
      "text/plain": [
       "[1.0,\n",
       " 50000000.0,\n",
       " 1.0,\n",
       " 50000000.0,\n",
       " 1.0,\n",
       " 50000000.0,\n",
       " 1.0,\n",
       " 50000000.0,\n",
       " 1.0,\n",
       " 50000000.0,\n",
       " 1.0,\n",
       " 50000000.0,\n",
       " 1.0]"
      ]
     },
     "execution_count": 4,
     "metadata": {},
     "output_type": "execute_result"
    }
   ],
   "source": [
    "#Getting recombination information from slim simulation\n",
    "\n",
    "#SLiM uses end positions while msprime uses start positions (msprime list will be n + 1)\n",
    "\n",
    "Mut_rate = 1.5e-8\n",
    "Rec_rate = 1e-8\n",
    "#Amp_rec_rate = ??? SHOULD BE HIGHER\n",
    "\n",
    "Chr_len = 9999\n",
    "Sep_len = 2\n",
    "Amplicon_len = 50\n",
    "Sex_Chr_len = (Chr_len // 5) - Amplicon_len\n",
    "\n",
    "'''   \n",
    "SLiM code:\n",
    "\n",
    "initializeRecombinationRate(c(Rec_rate, 0.5, Rec_rate, 0.5, 0, 0.5, 0, 0.5, 0, 0.5, 0, 0.5, 0),\n",
    "\t\tc(Chr_len, Chr_len + Sep_len,\n",
    "\t\t(Chr_len * 2) + Sep_len + 1,\n",
    "\t\t(Chr_len * 2) + (Sep_len * 2) + 1 + Amplicon_len,\n",
    "\t\t(Chr_len * 2) + (Sep_len * 2) + 2 + Amplicon_len + (Sex_Chr_len),\n",
    "\t\t(Chr_len * 2) + (Sep_len * 2) + 3 + (Amplicon_len * 2) + (Sex_Chr_len),\n",
    "\t\t(Chr_len * 2) + (Sep_len * 2) + 4 + (Amplicon_len * 2) + (Sex_Chr_len * 2),\n",
    "\t\t(Chr_len * 2) + (Sep_len * 2) + 5 + (Amplicon_len * 3) + (Sex_Chr_len * 2),\n",
    "\t\t(Chr_len * 2) + (Sep_len * 2) + 6 + (Amplicon_len * 3) + (Sex_Chr_len * 3),\n",
    "\t\t(Chr_len * 2) + (Sep_len * 2) + 7 + (Amplicon_len * 4) + (Sex_Chr_len * 3),\n",
    "\t\t(Chr_len * 2) + (Sep_len * 2) + 8 + (Amplicon_len * 4) + (Sex_Chr_len * 4),\n",
    "\t\t(Chr_len * 2) + (Sep_len * 2) + 9 + (Amplicon_len * 5) + (Sex_Chr_len * 4),\n",
    "\t\t(Chr_len * 2) + (Sep_len * 2) + 10 + (Amplicon_len * 5) + (Sex_Chr_len * 5)), sex=\"M\");\n",
    "        \n",
    "        \n",
    "initializeRecombinationRate(c(Rec_rate, 0.5, Rec_rate, 0.5, Rec_rate, 0.5, Rec_rate, 0.5, Rec_rate, 0.5, Rec_rate, 0.5, Rec_rate),\n",
    "\t\tc(Chr_len, Chr_len + Sep_len,\n",
    "\t\t(Chr_len * 2) + Sep_len + 1,\n",
    "\t\t(Chr_len * 2) + (Sep_len * 2) + 1,\n",
    "\t\t(Chr_len * 2) + (Sep_len * 2) + 2 + Amplicon_len + (Sex_Chr_len),\n",
    "\t\t(Chr_len * 2) + (Sep_len * 2) + 3 + (Amplicon_len * 2) + (Sex_Chr_len),\n",
    "\t\t(Chr_len * 2) + (Sep_len * 2) + 4 + (Amplicon_len * 2) + (Sex_Chr_len * 2),\n",
    "\t\t(Chr_len * 2) + (Sep_len * 2) + 5 + (Amplicon_len * 3) + (Sex_Chr_len * 2),\n",
    "\t\t(Chr_len * 2) + (Sep_len * 2) + 6 + (Amplicon_len * 3) + (Sex_Chr_len * 3),\n",
    "\t\t(Chr_len * 2) + (Sep_len * 2) + 7 + (Amplicon_len * 4) + (Sex_Chr_len * 3),\n",
    "\t\t(Chr_len * 2) + (Sep_len * 2) + 8 + (Amplicon_len * 4) + (Sex_Chr_len * 4),\n",
    "\t\t(Chr_len * 2) + (Sep_len * 2) + 9 + (Amplicon_len * 5) + (Sex_Chr_len * 4),\n",
    "\t\t(Chr_len * 2) + (Sep_len * 2) + 10 + (Amplicon_len * 5) + (Sex_Chr_len * 5)), sex=\"F\");\n",
    "}\n",
    "\n",
    "'''\n",
    "Positions = [Chr_len, Chr_len + Sep_len,\n",
    "\t\t(Chr_len * 2) + Sep_len + 1,\n",
    "\t\t(Chr_len * 2) + (Sep_len * 2) + 1,\n",
    "\t\t(Chr_len * 2) + (Sep_len * 2) + 2 + Amplicon_len + (Sex_Chr_len),\n",
    "\t\t(Chr_len * 2) + (Sep_len * 2) + 3 + (Amplicon_len * 2) + (Sex_Chr_len),\n",
    "\t\t(Chr_len * 2) + (Sep_len * 2) + 4 + (Amplicon_len * 2) + (Sex_Chr_len * 2),\n",
    "\t\t(Chr_len * 2) + (Sep_len * 2) + 5 + (Amplicon_len * 3) + (Sex_Chr_len * 2),\n",
    "\t\t(Chr_len * 2) + (Sep_len * 2) + 6 + (Amplicon_len * 3) + (Sex_Chr_len * 3),\n",
    "\t\t(Chr_len * 2) + (Sep_len * 2) + 7 + (Amplicon_len * 4) + (Sex_Chr_len * 3),\n",
    "\t\t(Chr_len * 2) + (Sep_len * 2) + 8 + (Amplicon_len * 4) + (Sex_Chr_len * 4),\n",
    "\t\t(Chr_len * 2) + (Sep_len * 2) + 9 + (Amplicon_len * 5) + (Sex_Chr_len * 4),\n",
    "\t\t(Chr_len * 2) + (Sep_len * 2) + 10 + (Amplicon_len * 5) + (Sex_Chr_len * 5)]\n",
    "\n",
    "#No rec in males outside PAR\n",
    "Male_Recrates = [Rec_rate, 0.5, Rec_rate, 0.5, 0, 0.5, 0, 0.5, 0, 0.5, 0, 0.5, 0]\n",
    "Female_recrates = [Rec_rate, 0.5, Rec_rate, 0.5, Rec_rate, 0.5, Rec_rate, 0.5, Rec_rate, 0.5, Rec_rate, 0.5, Rec_rate] \n",
    "\n",
    "#Recombination maps in tsv files use cM/Mb as a standard\n",
    "#Rescaling recombination rates accordingly:\n",
    "Male_Recrates_scaled = [r / 1e-8 for r in Male_Recrates]\n",
    "Female_Recrates_scaled = [r / 1e-8 for r in Female_recrates]\n",
    "\n",
    "Female_Recrates_scaled\n"
   ]
  },
  {
   "cell_type": "code",
   "execution_count": 9,
   "metadata": {},
   "outputs": [],
   "source": [
    "#Writing recombination rates in tsv file \n",
    "column_names = [\"end_position\", \"rate(cM/Mb)\"]\n",
    "\n",
    "data = {\"end_position\" : Positions, \"rate(cM/Mb)\" : Female_Recrates_scaled}\n",
    "df = pd.DataFrame(data)\n",
    "\n",
    "df.to_csv((\"../data/Female_recomb_rates.tsv\"), sep='\\t', index=False, header=column_names)"
   ]
  },
  {
   "cell_type": "code",
   "execution_count": 12,
   "metadata": {},
   "outputs": [],
   "source": [
    "#Recapitation with a nonuniform recombination map\n",
    "#WE HAVE 2 DIFFERENT MAPS FOR SEXES THIS NEEDS SOME OTHER CODE TO MAKE FEMALE/MALE NODES WITH DIFFERENT RECOMB MAPS <=== DAVIDE\n",
    "\n",
    "positions = []\n",
    "rates = []\n",
    "with open('../data/Female_recomb_rates.tsv', 'r') as file:\n",
    "  header = file.readline().strip().split(\"\\t\")\n",
    "  assert(header[0] == \"end_position\" and header[1] == \"rate(cM/Mb)\")\n",
    "  for line in file:\n",
    "     components = line.split(\"\\t\")\n",
    "     positions.append(float(components[0]))\n",
    "     rates.append(1e-8 * float(components[1]))\n",
    "\n",
    "# step 1\n",
    "positions.insert(0, 0)\n",
    "# step 2\n",
    "positions[-1] += 1\n",
    "assert positions[-1] == orig_ts.sequence_length\n",
    "\n",
    "recomb_map = msprime.RateMap(position=positions, rate=rates)\n",
    "rts = pyslim.recapitate(orig_ts,\n",
    "                recombination_rate=recomb_map,\n",
    "                ancestral_Ne=100)\n",
    "assert(max([t.num_roots for t in rts.trees()]) == 1)"
   ]
  },
  {
   "cell_type": "code",
   "execution_count": null,
   "metadata": {},
   "outputs": [],
   "source": [
    "rts"
   ]
  },
  {
   "cell_type": "code",
   "execution_count": 24,
   "metadata": {},
   "outputs": [],
   "source": [
    "orig_ts = tskit.load(\"../results/out.trees\")"
   ]
  },
  {
   "cell_type": "code",
   "execution_count": 5,
   "metadata": {},
   "outputs": [
    {
     "name": "stdout",
     "output_type": "stream",
     "text": [
      "Before, there were 214 sample nodes (and 107 individuals)\n",
      "in the tree sequence, and now there are 200 sample nodes\n",
      "(and 105 individuals).\n"
     ]
    }
   ],
   "source": [
    "#Simplification: discarding less informing nodes from tree\n",
    "#Here this is done without recapitation, directly from output file orig_ts.\n",
    "\n",
    "import numpy as np\n",
    "rng = np.random.default_rng(seed=3)\n",
    "alive_inds = pyslim.individuals_alive_at(orig_ts, 0)\n",
    "keep_indivs = rng.choice(alive_inds, 100, replace=False)\n",
    "keep_nodes = []\n",
    "for i in keep_indivs:\n",
    "  keep_nodes.extend(orig_ts.individual(i).nodes)\n",
    "\n",
    "#sts = rts.simplify(keep_nodes, keep_input_roots=True) #WITH RECAPITATION %%%All other orig_ts => rts\n",
    "sts = orig_ts.simplify(keep_nodes, keep_input_roots=True) #WITHOUT RECAPITATION\n",
    "\n",
    "\n",
    "print(f\"Before, there were {orig_ts.num_samples} sample nodes (and {orig_ts.num_individuals} individuals)\\n\"\n",
    "      f\"in the tree sequence, and now there are {sts.num_samples} sample nodes\\n\"\n",
    "      f\"(and {sts.num_individuals} individuals).\")"
   ]
  },
  {
   "cell_type": "code",
   "execution_count": 6,
   "metadata": {},
   "outputs": [
    {
     "name": "stdout",
     "output_type": "stream",
     "text": [
      "The tree sequence now has 181 mutations,\n",
      "and mean pairwise nucleotide diversity is 3.663e-04.\n"
     ]
    }
   ],
   "source": [
    "#Adding neutral mutation types after the simulation has occured\n",
    "#ACTUALLY WE HAVE ONLY NEUTRAL MUTATION TYPES IN OUR SIMULATION <====== DAVIDE\n",
    "next_id = pyslim.next_slim_mutation_id(sts)\n",
    "ts = msprime.sim_mutations(\n",
    "           sts,\n",
    "           rate=Mut_rate,\n",
    "           model=msprime.SLiMMutationModel(type=0, next_id=next_id), #using mutation type 0 because its not used in SLiM \n",
    "           keep=True, #keeps other mut types \n",
    ")\n",
    "\n",
    "print(f\"The tree sequence now has {ts.num_mutations} mutations,\\n\"\n",
    "      f\"and mean pairwise nucleotide diversity is {ts.diversity():0.3e}.\")"
   ]
  },
  {
   "cell_type": "code",
   "execution_count": 7,
   "metadata": {},
   "outputs": [
    {
     "data": {
      "text/html": [
       "\n",
       "            <div>\n",
       "              <style>\n",
       "                .tskit-table thead tr th {text-align: left;padding: 0.5em 0.5em;}\n",
       "                .tskit-table tbody tr td {padding: 0.5em 0.5em;}\n",
       "                .tskit-table tbody tr td:first-of-type {text-align: left;}\n",
       "                .tskit-details-label {vertical-align: top; padding-right:5px;}\n",
       "                .tskit-table-set {display: inline-flex;flex-wrap: wrap;margin: -12px 0 0 -12px;width: calc(100% + 12px);}\n",
       "                .tskit-table-set-table {margin: 12px 0 0 12px;}\n",
       "                details {display: inline-block;}\n",
       "                summary {cursor: pointer; outline: 0; display: list-item;}\n",
       "              </style>\n",
       "              <div class=\"tskit-table-set\">\n",
       "                <div class=\"tskit-table-set-table\">\n",
       "                  <table class=\"tskit-table\">\n",
       "                    <thead>\n",
       "                      <tr>\n",
       "                        <th style=\"padding:0;line-height:21px;\">\n",
       "                          <img style=\"height: 32px;display: inline-block;padding: 3px 5px 3px 0;\" src=\"https://raw.githubusercontent.com/tskit-dev/administrative/main/tskit_logo.svg\"/>\n",
       "                          <a target=\"_blank\" href=\"https://tskit.dev/tskit/docs/latest/python-api.html#the-treesequence-class\"> Tree Sequence </a>\n",
       "                        </th>\n",
       "                      </tr>\n",
       "                    </thead>\n",
       "                    <tbody>\n",
       "                      <tr><td>Trees</td><td>259</td></tr>\n",
       "                      <tr><td>Sequence Length</td><td>30008.0</td></tr>\n",
       "                      <tr><td>Time Units</td><td>ticks</td></tr>\n",
       "                      <tr><td>Sample Nodes</td><td>200</td></tr>\n",
       "                      <tr><td>Total Size</td><td>2.2 MiB</td></tr>\n",
       "                      <tr>\n",
       "                        <td>Metadata</td><td style=\"text-align: left;\">\n",
       "                <div>\n",
       "                  <span class=\"tskit-details-label\"></span>\n",
       "                  <details open>\n",
       "                    <summary>dict</summary>\n",
       "                    \n",
       "                <div>\n",
       "                  <span class=\"tskit-details-label\">SLiM:</span>\n",
       "                  <details >\n",
       "                    <summary>dict</summary>\n",
       "                    cycle: 10000<br/>file_version: 0.8<br/>model_type: nonWF<br/>name: sim<br/>nucleotide_based: False<br/>separate_sexes: True<br/>spatial_dimensionality: <br/>spatial_periodicity: <br/>stage: late<br/>tick: 10000<br/>\n",
       "                  </details>\n",
       "                </div>\n",
       "                <br/>\n",
       "                  </details>\n",
       "                </div>\n",
       "                </td></tr>\n",
       "                    </tbody>\n",
       "                  </table>\n",
       "                </div>\n",
       "                <div class=\"tskit-table-set-table\">\n",
       "                  <table class=\"tskit-table\">\n",
       "                    <thead>\n",
       "                      <tr>\n",
       "                        <th style=\"line-height:21px;\">Table</th>\n",
       "                        <th>Rows</th>\n",
       "                        <th>Size</th>\n",
       "                        <th>Has Metadata</th>\n",
       "                      </tr>\n",
       "                    </thead>\n",
       "                    <tbody>\n",
       "                    \n",
       "                  <tr>\n",
       "                    <td>Edges</td>\n",
       "                      <td>54199</td>\n",
       "                      <td>1.7 MiB</td>\n",
       "                      <td style=\"text-align: center;\">\n",
       "                        \n",
       "                      </td>\n",
       "                    </tr>\n",
       "                \n",
       "                  <tr>\n",
       "                    <td>Individuals</td>\n",
       "                      <td>105</td>\n",
       "                      <td>12.0 KiB</td>\n",
       "                      <td style=\"text-align: center;\">\n",
       "                        ✅\n",
       "                      </td>\n",
       "                    </tr>\n",
       "                \n",
       "                  <tr>\n",
       "                    <td>Migrations</td>\n",
       "                      <td>0</td>\n",
       "                      <td>8 Bytes</td>\n",
       "                      <td style=\"text-align: center;\">\n",
       "                        \n",
       "                      </td>\n",
       "                    </tr>\n",
       "                \n",
       "                  <tr>\n",
       "                    <td>Mutations</td>\n",
       "                      <td>181</td>\n",
       "                      <td>12.5 KiB</td>\n",
       "                      <td style=\"text-align: center;\">\n",
       "                        ✅\n",
       "                      </td>\n",
       "                    </tr>\n",
       "                \n",
       "                  <tr>\n",
       "                    <td>Nodes</td>\n",
       "                      <td>2555</td>\n",
       "                      <td>95.5 KiB</td>\n",
       "                      <td style=\"text-align: center;\">\n",
       "                        ✅\n",
       "                      </td>\n",
       "                    </tr>\n",
       "                \n",
       "                  <tr>\n",
       "                    <td>Populations</td>\n",
       "                      <td>1</td>\n",
       "                      <td>2.3 KiB</td>\n",
       "                      <td style=\"text-align: center;\">\n",
       "                        ✅\n",
       "                      </td>\n",
       "                    </tr>\n",
       "                \n",
       "                  <tr>\n",
       "                    <td>Provenances</td>\n",
       "                      <td>3</td>\n",
       "                      <td>16.8 KiB</td>\n",
       "                      <td style=\"text-align: center;\">\n",
       "                        \n",
       "                      </td>\n",
       "                    </tr>\n",
       "                \n",
       "                  <tr>\n",
       "                    <td>Sites</td>\n",
       "                      <td>136</td>\n",
       "                      <td>3.2 KiB</td>\n",
       "                      <td style=\"text-align: center;\">\n",
       "                        \n",
       "                      </td>\n",
       "                    </tr>\n",
       "                \n",
       "                    </tbody>\n",
       "                  </table>\n",
       "                </div>\n",
       "              </div>\n",
       "            </div>\n",
       "            "
      ],
      "text/plain": [
       "<tskit.trees.TreeSequence at 0x7f84f3ea3800>"
      ]
     },
     "execution_count": 7,
     "metadata": {},
     "output_type": "execute_result"
    }
   ],
   "source": [
    "ts"
   ]
  },
  {
   "cell_type": "code",
   "execution_count": 36,
   "metadata": {},
   "outputs": [
    {
     "data": {
      "text/plain": [
       "[<matplotlib.lines.Line2D at 0x7f84e82e6090>]"
      ]
     },
     "execution_count": 36,
     "metadata": {},
     "output_type": "execute_result"
    },
    {
     "data": {
      "image/png": "[encoded data removed]",
      "text/plain": [
       "<Figure size 640x480 with 1 Axes>"
      ]
     },
     "metadata": {},
     "output_type": "display_data"
    }
   ],
   "source": [
    "#Calculating TMRCA for given tree sequence (Only one root)\n",
    "\n",
    "#counting how many trees has more than one branch \n",
    "trees_onebranch = [tree for tree in ts.trees() if len(tree.roots) == 1]\n",
    "\n",
    "tmrca = np.zeros(len(trees_onebranch)) #initializing lists\n",
    "breakpoints = np.zeros(len(trees_onebranch))\n",
    "for tree in ts.trees():\n",
    "    if len(tree.roots) == 1:\n",
    "        tmrca[tree.index] = tree.time(tree.root)\n",
    "        breakpoints[tree.index] = tree.interval[0]\n",
    "plt.ylabel(\"T_mrca (Generations)\")\n",
    "plt.xlabel(\"Position (kb)\")\n",
    "plt.plot(breakpoints / 1000, tmrca, \"o\")"
   ]
  }
 ],
 "metadata": {
  "kernelspec": {
   "display_name": "birc-project",
   "language": "python",
   "name": "python3"
  },
  "language_info": {
   "codemirror_mode": {
    "name": "ipython",
    "version": 3
   },
   "file_extension": ".py",
   "mimetype": "text/x-python",
   "name": "python",
   "nbconvert_exporter": "python",
   "pygments_lexer": "ipython3",
   "version": "3.12.2"
  }
 },
 "nbformat": 4,
 "nbformat_minor": 2
}
