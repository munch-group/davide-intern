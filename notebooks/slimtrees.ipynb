{
 "cells": [
  {
   "cell_type": "code",
   "execution_count": 3,
   "id": "390a35d4-9fcb-40ce-a90e-9b9f8d2ea2a2",
   "metadata": {},
   "outputs": [],
   "source": [
    "import pandas as pd\n",
    "import numpy as np\n",
    "import random, msprime, pyslim, tskit"
   ]
  },
  {
   "cell_type": "code",
   "execution_count": 22,
   "id": "0ba5cb75-ac1a-4029-a82f-46d5a35aff25",
   "metadata": {},
   "outputs": [],
   "source": [
    "# load trees from slim (simplify removes founder invididual in each sub population and thus support for fixed mutations)\n",
    "ts = tskit.load(\"./davide_intern/people/davidec/davide-intern/out.trees\").simplify()\n",
    "\n",
    "# get nodes/chromosomes for female individuals:\n",
    "female_nodes = list()\n",
    "for ind in ts.individuals():\n",
    "    # if pyslim.decode_individual(ind.metadata).sex == 0:\n",
    "    if ind.metadata['sex'] == 0:\n",
    "        female_nodes.extend(ind.nodes)\n"
   ]
  },
  {
   "cell_type": "code",
   "execution_count": 24,
   "id": "f3575075-ab58-4837-ab30-94e5d552e83e",
   "metadata": {},
   "outputs": [],
   "source": [
    "# get the asmple ids among females chromosomes:\n",
    "sample_nodes = random.sample(female_nodes, k=8)"
   ]
  },
  {
   "cell_type": "code",
   "execution_count": 25,
   "id": "a4cae428-bbb7-4822-b55d-296037ada80e",
   "metadata": {},
   "outputs": [],
   "source": [
    "# overlay mutations\n",
    "mutated_ts = msprime.mutate(ts, rate=1.5e-8*31) #for humans args.generationtime 31"
   ]
  },
  {
   "cell_type": "code",
   "execution_count": 28,
   "id": "22dbe8b7-3a6a-45dc-becc-767b124267c8",
   "metadata": {},
   "outputs": [],
   "source": [
    "# get the positions of each segregating site\n",
    "positions = [site.position for site in mutated_ts.sites()]  "
   ]
  },
  {
   "cell_type": "code",
   "execution_count": 44,
   "id": "ea701dbf-5c42-477a-8a56-e358fccfadff",
   "metadata": {},
   "outputs": [],
   "source": [
    "# get genotypes for sample at variant sites in population:\n",
    "variants = mutated_ts.variants(samples=sample_nodes,\n",
    "    #as_bytes=False,\n",
    "    impute_missing_data=False) \n",
    "table = np.array([var.genotypes for var in variants])"
   ]
  },
  {
   "cell_type": "code",
   "execution_count": 51,
   "id": "a15509f0-dec1-4e76-a896-8f5e4c892664",
   "metadata": {},
   "outputs": [],
   "source": [
    "# turn table into dataframe with positions\n",
    "df = pd.DataFrame(table, dtype='int8')\n",
    "df['pos'] = positions\n",
    "# write sites to hdf\n",
    "df.to_hdf('./davide_intern/people/davidec/davide-intern/output.h5', key='df', format='table', mode='w') #args.sites_file output file"
   ]
  },
  {
   "cell_type": "code",
   "execution_count": null,
   "id": "5f7aa4fe-a315-4684-afd9-bdbecb552cdd",
   "metadata": {},
   "outputs": [],
   "source": [
    "# write a VCF\n",
    "vcf_df = pd.DataFrame(table, dtype='int8') #pd.DataFrame\n",
    "# remove rows without derived variants\n",
    "polymorphic = (vcf_df != 0).any(axis=1)\n",
    "vcf_df = vcf_df.loc[polymorphic]\n",
    "positions = pd.Series([round(p) for p in positions])\n",
    "positions = positions[polymorphic]\n",
    "vcf_df.insert(0, 'FORMAT', 'GT')\n",
    "vcf_df.insert(0, 'INFO', 'AA=A')\n",
    "vcf_df.insert(0, 'FILTER', '')\n",
    "vcf_df.insert(0, 'QUAL', '')\n",
    "vcf_df.insert(0, 'ALT', 'T')\n",
    "vcf_df.insert(0, 'REF', 'A')\n",
    "vcf_df.insert(0, 'ID', list(range(len(positions))))\n",
    "vcf_df.insert(0, 'POS', positions.values)\n",
    "vcf_df.insert(0, '#CHROM', '1')\n",
    "vcf_df.to_csv('./davide_intern/people/davidec/davide-intern/output.vcf', sep='\\t', index=False)"
   ]
  },
  {
   "cell_type": "code",
   "execution_count": 56,
   "id": "7a77d847-1658-4566-bf60-8716d265301c",
   "metadata": {},
   "outputs": [
    {
     "data": {
      "text/plain": [
       "1      1535\n",
       "2      2423\n",
       "4      5509\n",
       "6      6733\n",
       "9     12011\n",
       "10    12080\n",
       "12    13393\n",
       "15    18634\n",
       "17    19214\n",
       "23    21330\n",
       "24    24230\n",
       "26    26373\n",
       "28    27905\n",
       "dtype: int64"
      ]
     },
     "execution_count": 56,
     "metadata": {},
     "output_type": "execute_result"
    }
   ],
   "source": [
    "positions"
   ]
  },
  {
   "cell_type": "code",
   "execution_count": 58,
   "id": "3f6928ff-f72e-4911-aafc-b2e054f15492",
   "metadata": {},
   "outputs": [],
   "source": [
    "# write a VCF where the haplotypes are artificially treated as unphased diploid genotypes\n",
    "geno_vcf_df = vcf_df.iloc[:, 0:9]\n",
    "samples = vcf_df.columns.values[9:].tolist()\n",
    "for i, (a, b) in enumerate(zip(samples[0::2], samples[1::2])):\n",
    "    geno_vcf_df[i] = vcf_df[a].astype('str') + '/' +  vcf_df[b].astype('str')\n",
    "geno_vcf_df.to_csv('./davide_intern/people/davidec/davide-intern/output_geno_file.vcf', sep='\\t', index=False)"
   ]
  }
 ],
 "metadata": {
  "kernelspec": {
   "display_name": "Python 3 (ipykernel)",
   "language": "python",
   "name": "python3"
  },
  "language_info": {
   "codemirror_mode": {
    "name": "ipython",
    "version": 3
   },
   "file_extension": ".py",
   "mimetype": "text/x-python",
   "name": "python",
   "nbconvert_exporter": "python",
   "pygments_lexer": "ipython3",
   "version": "3.12.2"
  }
 },
 "nbformat": 4,
 "nbformat_minor": 5
}
