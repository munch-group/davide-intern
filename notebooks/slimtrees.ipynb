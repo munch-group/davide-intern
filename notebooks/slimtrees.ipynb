{
 "cells": [
  {
   "cell_type": "code",
   "execution_count": 3,
   "id": "390a35d4-9fcb-40ce-a90e-9b9f8d2ea2a2",
   "metadata": {},
   "outputs": [],
   "source": [
    "import pandas as pd"
   ]
  },
  {
   "cell_type": "code",
   "execution_count": 27,
   "id": "37fc8329-cc30-492a-8f20-3e8f4a856dbb",
   "metadata": {},
   "outputs": [],
   "source": [
    "import numpy as np"
   ]
  },
  {
   "cell_type": "code",
   "execution_count": 20,
   "id": "fcc84852-3ff5-49bd-bb54-3210fcc7621a",
   "metadata": {},
   "outputs": [],
   "source": [
    "import random, msprime, pyslim, tskit"
   ]
  },
  {
   "cell_type": "code",
   "execution_count": 22,
   "id": "0ba5cb75-ac1a-4029-a82f-46d5a35aff25",
   "metadata": {},
   "outputs": [],
   "source": [
    "# load trees from slim (simplify removes founder invididual in each sub population and thus support for fixed mutations)\n",
    "ts = tskit.load(\"./davide_intern/people/davidec/davide-intern/out.trees\").simplify()\n",
    "\n",
    "# get nodes/chromosomes for female individuals:\n",
    "female_nodes = list()\n",
    "for ind in ts.individuals():\n",
    "    # if pyslim.decode_individual(ind.metadata).sex == 0:\n",
    "    if ind.metadata['sex'] == 0:\n",
    "        female_nodes.extend(ind.nodes)\n"
   ]
  },
  {
   "cell_type": "code",
   "execution_count": 24,
   "id": "f3575075-ab58-4837-ab30-94e5d552e83e",
   "metadata": {},
   "outputs": [],
   "source": [
    "# get the asmple ids among females chromosomes:\n",
    "sample_nodes = random.sample(female_nodes, k=8)"
   ]
  },
  {
   "cell_type": "code",
   "execution_count": 25,
   "id": "a4cae428-bbb7-4822-b55d-296037ada80e",
   "metadata": {},
   "outputs": [],
   "source": [
    "# overlay mutations\n",
    "mutated_ts = msprime.mutate(ts, rate=1.5e-8*31) #for humans args.generationtime 31"
   ]
  },
  {
   "cell_type": "code",
   "execution_count": 28,
   "id": "22dbe8b7-3a6a-45dc-becc-767b124267c8",
   "metadata": {},
   "outputs": [],
   "source": [
    "# get the positions of each segregating site\n",
    "positions = [site.position for site in mutated_ts.sites()]  "
   ]
  },
  {
   "cell_type": "code",
   "execution_count": 44,
   "id": "ea701dbf-5c42-477a-8a56-e358fccfadff",
   "metadata": {},
   "outputs": [],
   "source": [
    "# get genotypes for sample at variant sites in population:\n",
    "variants = mutated_ts.variants(samples=sample_nodes,\n",
    "    #as_bytes=False,\n",
    "    impute_missing_data=False) \n",
    "table = np.array([var.genotypes for var in variants])"
   ]
  },
  {
   "cell_type": "code",
   "execution_count": 51,
   "id": "a15509f0-dec1-4e76-a896-8f5e4c892664",
   "metadata": {},
   "outputs": [],
   "source": [
    "# turn table into dataframe with positions\n",
    "df = pd.DataFrame(table, dtype='int8')\n",
    "df['pos'] = positions\n",
    "# write sites to hdf\n",
    "df.to_hdf('./davide_intern/people/davidec/davide-intern/output.h5', key='df', format='table', mode='w') #args.sites_file output file"
   ]
  },
  {
   "cell_type": "code",
   "execution_count": 54,
   "id": "5f7aa4fe-a315-4684-afd9-bdbecb552cdd",
   "metadata": {},
   "outputs": [
    {
     "ename": "ValueError",
     "evalue": "Length of values (13) does not match length of index (32)",
     "output_type": "error",
     "traceback": [
      "\u001b[0;31m---------------------------------------------------------------------------\u001b[0m",
      "\u001b[0;31mValueError\u001b[0m                                Traceback (most recent call last)",
      "Cell \u001b[0;32mIn[54], line 14\u001b[0m\n\u001b[1;32m     12\u001b[0m vcf_df\u001b[38;5;241m.\u001b[39minsert(\u001b[38;5;241m0\u001b[39m, \u001b[38;5;124m'\u001b[39m\u001b[38;5;124mALT\u001b[39m\u001b[38;5;124m'\u001b[39m, \u001b[38;5;124m'\u001b[39m\u001b[38;5;124mT\u001b[39m\u001b[38;5;124m'\u001b[39m)\n\u001b[1;32m     13\u001b[0m vcf_df\u001b[38;5;241m.\u001b[39minsert(\u001b[38;5;241m0\u001b[39m, \u001b[38;5;124m'\u001b[39m\u001b[38;5;124mREF\u001b[39m\u001b[38;5;124m'\u001b[39m, \u001b[38;5;124m'\u001b[39m\u001b[38;5;124mA\u001b[39m\u001b[38;5;124m'\u001b[39m)\n\u001b[0;32m---> 14\u001b[0m vcf_df\u001b[38;5;241m.\u001b[39minsert(\u001b[38;5;241m0\u001b[39m, \u001b[38;5;124m'\u001b[39m\u001b[38;5;124mID\u001b[39m\u001b[38;5;124m'\u001b[39m, \u001b[38;5;28mlist\u001b[39m(\u001b[38;5;28mrange\u001b[39m(\u001b[38;5;28mlen\u001b[39m(positions))))\n\u001b[1;32m     15\u001b[0m vcf_df\u001b[38;5;241m.\u001b[39minsert(\u001b[38;5;241m0\u001b[39m, \u001b[38;5;124m'\u001b[39m\u001b[38;5;124mPOS\u001b[39m\u001b[38;5;124m'\u001b[39m, positions\u001b[38;5;241m.\u001b[39mvalues)\n\u001b[1;32m     16\u001b[0m vcf_df\u001b[38;5;241m.\u001b[39minsert(\u001b[38;5;241m0\u001b[39m, \u001b[38;5;124m'\u001b[39m\u001b[38;5;124m#CHROM\u001b[39m\u001b[38;5;124m'\u001b[39m, \u001b[38;5;124m'\u001b[39m\u001b[38;5;124m1\u001b[39m\u001b[38;5;124m'\u001b[39m)\n",
      "File \u001b[0;32m~/miniconda3/envs/birc-project/lib/python3.12/site-packages/pandas/core/frame.py:5158\u001b[0m, in \u001b[0;36mDataFrame.insert\u001b[0;34m(self, loc, column, value, allow_duplicates)\u001b[0m\n\u001b[1;32m   5155\u001b[0m \u001b[38;5;28;01melif\u001b[39;00m \u001b[38;5;28misinstance\u001b[39m(value, DataFrame):\n\u001b[1;32m   5156\u001b[0m     value \u001b[38;5;241m=\u001b[39m value\u001b[38;5;241m.\u001b[39miloc[:, \u001b[38;5;241m0\u001b[39m]\n\u001b[0;32m-> 5158\u001b[0m value, refs \u001b[38;5;241m=\u001b[39m \u001b[38;5;28mself\u001b[39m\u001b[38;5;241m.\u001b[39m_sanitize_column(value)\n\u001b[1;32m   5159\u001b[0m \u001b[38;5;28mself\u001b[39m\u001b[38;5;241m.\u001b[39m_mgr\u001b[38;5;241m.\u001b[39minsert(loc, column, value, refs\u001b[38;5;241m=\u001b[39mrefs)\n",
      "File \u001b[0;32m~/miniconda3/envs/birc-project/lib/python3.12/site-packages/pandas/core/frame.py:5253\u001b[0m, in \u001b[0;36mDataFrame._sanitize_column\u001b[0;34m(self, value)\u001b[0m\n\u001b[1;32m   5250\u001b[0m     \u001b[38;5;28;01mreturn\u001b[39;00m _reindex_for_setitem(value, \u001b[38;5;28mself\u001b[39m\u001b[38;5;241m.\u001b[39mindex)\n\u001b[1;32m   5252\u001b[0m \u001b[38;5;28;01mif\u001b[39;00m is_list_like(value):\n\u001b[0;32m-> 5253\u001b[0m     com\u001b[38;5;241m.\u001b[39mrequire_length_match(value, \u001b[38;5;28mself\u001b[39m\u001b[38;5;241m.\u001b[39mindex)\n\u001b[1;32m   5254\u001b[0m arr \u001b[38;5;241m=\u001b[39m sanitize_array(value, \u001b[38;5;28mself\u001b[39m\u001b[38;5;241m.\u001b[39mindex, copy\u001b[38;5;241m=\u001b[39m\u001b[38;5;28;01mTrue\u001b[39;00m, allow_2d\u001b[38;5;241m=\u001b[39m\u001b[38;5;28;01mTrue\u001b[39;00m)\n\u001b[1;32m   5255\u001b[0m \u001b[38;5;28;01mif\u001b[39;00m (\n\u001b[1;32m   5256\u001b[0m     \u001b[38;5;28misinstance\u001b[39m(value, Index)\n\u001b[1;32m   5257\u001b[0m     \u001b[38;5;129;01mand\u001b[39;00m value\u001b[38;5;241m.\u001b[39mdtype \u001b[38;5;241m==\u001b[39m \u001b[38;5;124m\"\u001b[39m\u001b[38;5;124mobject\u001b[39m\u001b[38;5;124m\"\u001b[39m\n\u001b[0;32m   (...)\u001b[0m\n\u001b[1;32m   5260\u001b[0m     \u001b[38;5;66;03m# TODO: Remove kludge in sanitize_array for string mode when enforcing\u001b[39;00m\n\u001b[1;32m   5261\u001b[0m     \u001b[38;5;66;03m# this deprecation\u001b[39;00m\n",
      "File \u001b[0;32m~/miniconda3/envs/birc-project/lib/python3.12/site-packages/pandas/core/common.py:573\u001b[0m, in \u001b[0;36mrequire_length_match\u001b[0;34m(data, index)\u001b[0m\n\u001b[1;32m    569\u001b[0m \u001b[38;5;250m\u001b[39m\u001b[38;5;124;03m\"\"\"\u001b[39;00m\n\u001b[1;32m    570\u001b[0m \u001b[38;5;124;03mCheck the length of data matches the length of the index.\u001b[39;00m\n\u001b[1;32m    571\u001b[0m \u001b[38;5;124;03m\"\"\"\u001b[39;00m\n\u001b[1;32m    572\u001b[0m \u001b[38;5;28;01mif\u001b[39;00m \u001b[38;5;28mlen\u001b[39m(data) \u001b[38;5;241m!=\u001b[39m \u001b[38;5;28mlen\u001b[39m(index):\n\u001b[0;32m--> 573\u001b[0m     \u001b[38;5;28;01mraise\u001b[39;00m \u001b[38;5;167;01mValueError\u001b[39;00m(\n\u001b[1;32m    574\u001b[0m         \u001b[38;5;124m\"\u001b[39m\u001b[38;5;124mLength of values \u001b[39m\u001b[38;5;124m\"\u001b[39m\n\u001b[1;32m    575\u001b[0m         \u001b[38;5;124mf\u001b[39m\u001b[38;5;124m\"\u001b[39m\u001b[38;5;124m(\u001b[39m\u001b[38;5;132;01m{\u001b[39;00m\u001b[38;5;28mlen\u001b[39m(data)\u001b[38;5;132;01m}\u001b[39;00m\u001b[38;5;124m) \u001b[39m\u001b[38;5;124m\"\u001b[39m\n\u001b[1;32m    576\u001b[0m         \u001b[38;5;124m\"\u001b[39m\u001b[38;5;124mdoes not match length of index \u001b[39m\u001b[38;5;124m\"\u001b[39m\n\u001b[1;32m    577\u001b[0m         \u001b[38;5;124mf\u001b[39m\u001b[38;5;124m\"\u001b[39m\u001b[38;5;124m(\u001b[39m\u001b[38;5;132;01m{\u001b[39;00m\u001b[38;5;28mlen\u001b[39m(index)\u001b[38;5;132;01m}\u001b[39;00m\u001b[38;5;124m)\u001b[39m\u001b[38;5;124m\"\u001b[39m\n\u001b[1;32m    578\u001b[0m     )\n",
      "\u001b[0;31mValueError\u001b[0m: Length of values (13) does not match length of index (32)"
     ]
    }
   ],
   "source": [
    "# write a VCF\n",
    "vcf_df = pd.DataFrame(table, dtype='int8') #pd.DataFrame\n",
    "# remove rows without derived variants\n",
    "polymorphic = (vcf_df != 0).any(axis=1)\n",
    "vcf_df = vcf_df.loc[polymorphic]\n",
    "positions = pd.Series([round(p) for p in positions])\n",
    "positions = positions[polymorphic]\n",
    "vcf_df.insert(0, 'FORMAT', 'GT')\n",
    "vcf_df.insert(0, 'INFO', 'AA=A')\n",
    "vcf_df.insert(0, 'FILTER', '')\n",
    "vcf_df.insert(0, 'QUAL', '')\n",
    "vcf_df.insert(0, 'ALT', 'T')\n",
    "vcf_df.insert(0, 'REF', 'A')\n",
    "vcf_df.insert(0, 'ID', list(range(len(positions))))\n",
    "vcf_df.insert(0, 'POS', positions.values)\n",
    "vcf_df.insert(0, '#CHROM', '1')\n",
    "vcf_df.to_csv('./davide_intern/people/davidec/davide-intern/output.vcf', sep='\\t', index=False)"
   ]
  },
  {
   "cell_type": "code",
   "execution_count": 56,
   "id": "7a77d847-1658-4566-bf60-8716d265301c",
   "metadata": {},
   "outputs": [
    {
     "data": {
      "text/plain": [
       "1      1535\n",
       "2      2423\n",
       "4      5509\n",
       "6      6733\n",
       "9     12011\n",
       "10    12080\n",
       "12    13393\n",
       "15    18634\n",
       "17    19214\n",
       "23    21330\n",
       "24    24230\n",
       "26    26373\n",
       "28    27905\n",
       "dtype: int64"
      ]
     },
     "execution_count": 56,
     "metadata": {},
     "output_type": "execute_result"
    }
   ],
   "source": [
    "positions"
   ]
  },
  {
   "cell_type": "code",
   "execution_count": 58,
   "id": "3f6928ff-f72e-4911-aafc-b2e054f15492",
   "metadata": {},
   "outputs": [],
   "source": [
    "# write a VCF where the haplotypes are artificially treated as unphased diploid genotypes\n",
    "geno_vcf_df = vcf_df.iloc[:, 0:9]\n",
    "samples = vcf_df.columns.values[9:].tolist()\n",
    "for i, (a, b) in enumerate(zip(samples[0::2], samples[1::2])):\n",
    "    geno_vcf_df[i] = vcf_df[a].astype('str') + '/' +  vcf_df[b].astype('str')\n",
    "geno_vcf_df.to_csv('./davide_intern/people/davidec/davide-intern/output_geno_file.vcf', sep='\\t', index=False)"
   ]
  }
 ],
 "metadata": {
  "kernelspec": {
   "display_name": "Python 3 (ipykernel)",
   "language": "python",
   "name": "python3"
  },
  "language_info": {
   "codemirror_mode": {
    "name": "ipython",
    "version": 3
   },
   "file_extension": ".py",
   "mimetype": "text/x-python",
   "name": "python",
   "nbconvert_exporter": "python",
   "pygments_lexer": "ipython3",
   "version": "3.12.2"
  }
 },
 "nbformat": 4,
 "nbformat_minor": 5
}
